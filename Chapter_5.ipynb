{
 "cells": [
  {
   "cell_type": "markdown",
   "metadata": {},
   "source": [
    "# Chapter 5\n",
    "\n",
    "### Dictionaries\n",
    "\n",
    "\n",
    "__Problem 1.__ Count the number of occurrences of each letter in a string"
   ]
  },
  {
   "cell_type": "code",
   "execution_count": 1,
   "metadata": {
    "collapsed": false
   },
   "outputs": [
    {
     "name": "stdout",
     "output_type": "stream",
     "text": [
      "Enter a message to count\n",
      "Hello Guzel\n",
      "u 1\n",
      "  1\n",
      "o 1\n",
      "l 3\n",
      "z 1\n",
      "g 1\n",
      "h 1\n",
      "e 2\n",
      "{' ': 1, 'e': 2, 'g': 1, 'h': 1, 'l': 3, 'o': 1, 'u': 1, 'z': 1}\n"
     ]
    }
   ],
   "source": [
    "import pprint\n",
    "\n",
    "print('Enter a message to count')\n",
    "message = input()\n",
    "count = {}\n",
    "\n",
    "for character in message:\n",
    "    count.setdefault(character.lower(), 0)\n",
    "    count[character.lower()] += 1\n",
    "\n",
    "for i, j in count.items():\n",
    "    print(i, j)\n",
    "    \n",
    "pprint.pprint(count)"
   ]
  },
  {
   "cell_type": "markdown",
   "metadata": {},
   "source": [
    "__Problem 2.__ Tic Tac Toe Game"
   ]
  },
  {
   "cell_type": "code",
   "execution_count": 5,
   "metadata": {
    "collapsed": false
   },
   "outputs": [
    {
     "name": "stdout",
     "output_type": "stream",
     "text": [
      " | | \n",
      "-+-+-\n",
      " | | \n",
      "-+-+-\n",
      " | | \n",
      "Turn for X. Move on which space?\n",
      "mid-M\n",
      " | | \n",
      "-+-+-\n",
      " |X| \n",
      "-+-+-\n",
      " | | \n",
      "Turn for O. Move on which space?\n",
      "top-L\n",
      "O| | \n",
      "-+-+-\n",
      " |X| \n",
      "-+-+-\n",
      " | | \n",
      "Turn for X. Move on which space?\n",
      "low-L\n",
      "O| | \n",
      "-+-+-\n",
      " |X| \n",
      "-+-+-\n",
      "X| | \n",
      "Turn for O. Move on which space?\n",
      "top-R\n",
      "O| |O\n",
      "-+-+-\n",
      " |X| \n",
      "-+-+-\n",
      "X| | \n",
      "Turn for X. Move on which space?\n",
      "top-M\n",
      "O|X|O\n",
      "-+-+-\n",
      " |X| \n",
      "-+-+-\n",
      "X| | \n",
      "Turn for O. Move on which space?\n",
      "low-R\n",
      "O|X|O\n",
      "-+-+-\n",
      " |X| \n",
      "-+-+-\n",
      "X| |O\n",
      "Turn for X. Move on which space?\n",
      "low-M\n",
      "O|X|O\n",
      "-+-+-\n",
      " |X| \n",
      "-+-+-\n",
      "X|X|O\n",
      "Turn for O. Move on which space?\n",
      "mid-R\n",
      "O|X|O\n",
      "-+-+-\n",
      " |X|O\n",
      "-+-+-\n",
      "X|X|O\n",
      "Turn for X. Move on which space?\n",
      "mid-L\n",
      "O|X|O\n",
      "-+-+-\n",
      "X|X|O\n",
      "-+-+-\n",
      "X|X|O\n"
     ]
    }
   ],
   "source": [
    "def printBoard(board):\n",
    "    \n",
    "    print(board['top-L'] + '|' + board['top-M'] + '|' + board['top-R'])\n",
    "    print('-+-+-')\n",
    "    print(board['mid-L'] + '|' + board['mid-M'] + '|' + board['mid-R'])\n",
    "    print('-+-+-')\n",
    "    print(board['low-L'] + '|' + board['low-M'] + '|' + board['low-R'])   \n",
    "\n",
    "\n",
    "theBoard = {'top-L': ' ', 'top-M': ' ', 'top-R': ' ',\n",
    "            'mid-L': ' ', 'mid-M': ' ', 'mid-R': ' ',\n",
    "            'low-L': ' ', 'low-M': ' ', 'low-R': ' '}\n",
    "\n",
    "\n",
    "turn = 'X'\n",
    "\n",
    "for i in range(9): \n",
    "    printBoard(theBoard)\n",
    "    print('Turn for ' + turn + '. Move on which space?')\n",
    "    move = input()\n",
    "    theBoard[move] = turn\n",
    "    if turn == 'X':\n",
    "        turn = 'O'\n",
    "    else:\n",
    "        turn = 'X'\n",
    "\n",
    "printBoard(theBoard)"
   ]
  },
  {
   "cell_type": "markdown",
   "metadata": {},
   "source": [
    "__Problem 3.__ Display the inventory"
   ]
  },
  {
   "cell_type": "code",
   "execution_count": 6,
   "metadata": {
    "collapsed": false
   },
   "outputs": [
    {
     "name": "stdout",
     "output_type": "stream",
     "text": [
      "Inventory:\n",
      "1 rope\n",
      "1 dagger\n",
      "42 gold coin\n",
      "6 torch\n",
      "12 arrow\n",
      "Total number of items: 62\n"
     ]
    }
   ],
   "source": [
    "stuff = {'rope': 1, 'torch': 6, 'gold coin': 42, 'dagger': 1, 'arrow': 12}\n",
    "\n",
    "\n",
    "def displayInventory(inventory):\n",
    "    \n",
    "    print(\"Inventory:\")\n",
    "    item_total = 0\n",
    "    for k, v in inventory.items():\n",
    "        print(str(v) + ' ' + k)\n",
    "        item_total = item_total + v\n",
    " \n",
    "    print(\"Total number of items: \" + str(item_total))\n",
    "\n",
    "displayInventory(stuff)"
   ]
  },
  {
   "cell_type": "markdown",
   "metadata": {},
   "source": [
    "__Problem 4.__ Add to the inventory"
   ]
  },
  {
   "cell_type": "code",
   "execution_count": 7,
   "metadata": {
    "collapsed": false
   },
   "outputs": [
    {
     "name": "stdout",
     "output_type": "stream",
     "text": [
      "Inventory:\n",
      "1 rope\n",
      "1 dagger\n",
      "45 gold coin\n",
      "1 ruby\n",
      "Total number of items: 48\n"
     ]
    }
   ],
   "source": [
    "def addToInventory(inventory, addedItems):\n",
    "    \n",
    "    for i in addedItems:\n",
    "        inventory.setdefault(i,0)\n",
    "        inventory[i] += 1\n",
    "        \n",
    "    return(inventory)\n",
    "                \n",
    "\n",
    "inv = {'gold coin': 42, 'rope': 1}\n",
    "dragonLoot = ['gold coin', 'dagger', 'gold coin', 'gold coin', 'ruby']\n",
    "inv = addToInventory(inv, dragonLoot)\n",
    "displayInventory(inv)"
   ]
  }
 ],
 "metadata": {
  "anaconda-cloud": {},
  "kernelspec": {
   "display_name": "Python [Root]",
   "language": "python",
   "name": "Python [Root]"
  },
  "language_info": {
   "codemirror_mode": {
    "name": "ipython",
    "version": 3
   },
   "file_extension": ".py",
   "mimetype": "text/x-python",
   "name": "python",
   "nbconvert_exporter": "python",
   "pygments_lexer": "ipython3",
   "version": "3.5.2"
  }
 },
 "nbformat": 4,
 "nbformat_minor": 0
}
