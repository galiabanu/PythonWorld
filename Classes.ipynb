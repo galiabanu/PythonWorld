{
 "cells": [
  {
   "cell_type": "markdown",
   "metadata": {},
   "source": [
    "# Modules, Classes, and Objects\n",
    "\n",
    "https://learnpythonthehardway.org/book/ex40.html\n",
    "\n",
    "A __module__ is a Python object with arbitrarily named attributes that you can bind and reference. Simply, a module is a file consisting of Python code. A module can define functions, classes and variables. A module can also include runnable code.\n",
    "\n",
    "In the case of the dictionary, the key is a string and the syntax is [key]. In the case of the module, the key is an identifier, and the syntax is .key. Other than that they are nearly the same thing.\n",
    "Ex: \n",
    "\n",
    "\n",
    "import my_program\n",
    "\n",
    "my_program.variable         # getting variable from module\n",
    "\n",
    "my_dictionary[key_variable] # getting variable from dictionary\n",
    "\n",
    "\n",
    "\n",
    "__Classes Are Like Modules__\n",
    "\n",
    "A __class__ is a way to take a grouping of functions and data and place them inside a container so you can access them with the . (dot) operator.\n",
    "\n",
    "https://docs.python.org/3/tutorial/classes.html\n"
   ]
  },
  {
   "cell_type": "code",
   "execution_count": 2,
   "metadata": {
    "collapsed": false
   },
   "outputs": [],
   "source": [
    "class MyStuff(object):\n",
    "\n",
    "    def __init__(self):\n",
    "        self.tangerine = \"And now a thousand years between\"\n",
    "\n",
    "    def apple(self):\n",
    "        print (\"I AM CLASSY APPLES!\")"
   ]
  },
  {
   "cell_type": "markdown",
   "metadata": {},
   "source": [
    "__Objects are Like Import__\n",
    "\n",
    "If a class is like a \"mini-module,\" then there has to be a similar concept to import but for classes. That concept is called \"instantiate\", which means \"create.\" When you instantiate a class what you get is called an object.\n",
    "\n",
    "You instantiate (create) a class by calling the class like it's a function"
   ]
  },
  {
   "cell_type": "code",
   "execution_count": 4,
   "metadata": {
    "collapsed": false
   },
   "outputs": [
    {
     "name": "stdout",
     "output_type": "stream",
     "text": [
      "I AM CLASSY APPLES!\n",
      "And now a thousand years between\n"
     ]
    }
   ],
   "source": [
    "thing = MyStuff()\n",
    "thing.apple()\n",
    "print (thing.tangerine)"
   ]
  },
  {
   "cell_type": "code",
   "execution_count": null,
   "metadata": {
    "collapsed": true
   },
   "outputs": [],
   "source": [
    "class MyClass:\n",
    "    \"\"\"A simple example class\"\"\"\n",
    "    i = 12345\n",
    "\n",
    "    def f(self):\n",
    "        return 'hello world'\n",
    "    \n",
    "# MyClass.i and MyClass.f are the attribute references\n",
    "# _doc_ attribute, return the docstring belonging to the class: \"A simple example class\""
   ]
  },
  {
   "cell_type": "markdown",
   "metadata": {},
   "source": [
    "The instantiation operation (“calling” a class object) creates an empty object. Many classes like to create objects with instances customized to a specific initial state. Therefore a class may define a special method named __init__(), like this"
   ]
  },
  {
   "cell_type": "code",
   "execution_count": 5,
   "metadata": {
    "collapsed": false
   },
   "outputs": [
    {
     "data": {
      "text/plain": [
       "(3.0, -4.5)"
      ]
     },
     "execution_count": 5,
     "metadata": {},
     "output_type": "execute_result"
    }
   ],
   "source": [
    "class Complex:\n",
    "    def __init__(self, realpart, imagpart):\n",
    "        self.r = realpart\n",
    "        self.i = imagpart\n",
    "        \n",
    "x = Complex(3.0, -4.5)\n",
    "x.r, x.i"
   ]
  },
  {
   "cell_type": "code",
   "execution_count": null,
   "metadata": {
    "collapsed": true
   },
   "outputs": [],
   "source": []
  }
 ],
 "metadata": {
  "kernelspec": {
   "display_name": "Python [Root]",
   "language": "python",
   "name": "Python [Root]"
  },
  "language_info": {
   "codemirror_mode": {
    "name": "ipython",
    "version": 3
   },
   "file_extension": ".py",
   "mimetype": "text/x-python",
   "name": "python",
   "nbconvert_exporter": "python",
   "pygments_lexer": "ipython3",
   "version": "3.5.2"
  }
 },
 "nbformat": 4,
 "nbformat_minor": 0
}
